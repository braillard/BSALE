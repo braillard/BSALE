{
  "nbformat": 4,
  "nbformat_minor": 0,
  "metadata": {
    "colab": {
      "provenance": []
    },
    "kernelspec": {
      "name": "python3",
      "display_name": "Python 3"
    },
    "language_info": {
      "name": "python"
    }
  },
  "cells": [
    {
      "cell_type": "code",
      "execution_count": 11,
      "metadata": {
        "id": "l5nUQINdi9h0"
      },
      "outputs": [],
      "source": [
        "import pandas as pd\n",
        "import sqlite3\n",
        "import json\n",
        "\n",
        "#cargaré los datos de los archivos JSON\n",
        "\n",
        "import pandas as pd\n",
        "import sqlite3\n",
        "import json\n",
        "\n",
        "# Cargar los datos desde archivos JSON\n",
        "customers = pd.read_json(\"sample_analytics.customers.json\")\n",
        "accounts = pd.read_json(\"sample_analytics.accounts.json\")\n",
        "\n",
        "# Cargar y expandir el JSON de transacciones (está anidado)\n",
        "with open(\"sample_analytics.transactions.json\") as f:\n",
        "    raw_transactions = json.load(f)\n",
        "\n",
        "# Extraer y normalizar las transacciones por cuenta\n",
        "transactions_expanded = []\n",
        "for entry in raw_transactions:\n",
        "    account_id = entry['account_id']  # id de cuenta que agrupa cada set de transacciones\n",
        "    for tx in entry['transactions']:\n",
        "        tx_flat = tx.copy()\n",
        "        tx_flat['account_id'] = account_id\n",
        "        if isinstance(tx['date'], dict):  # revisar si la fecha está en formato {'$date': ...}\n",
        "            tx_flat['date'] = tx['date']['$date']\n",
        "        transactions_expanded.append(tx_flat)\n",
        "\n",
        "# Crear DataFrame de transacciones y limpiar\n",
        "transactions = pd.DataFrame(transactions_expanded)\n",
        "transactions['date'] = pd.to_datetime(transactions['date'], errors='coerce')  # convertir a datetime\n",
        "transactions = transactions[['account_id', 'date', 'amount', 'transaction_code', 'symbol', 'price', 'total']]\n",
        "\n"
      ]
    },
    {
      "cell_type": "code",
      "source": [
        "#normalizaremos los clientes\n",
        "customers['birthdate'] = customers['birthdate'].apply(lambda x: x['$date'] if isinstance(x, dict) else x)\n",
        "customers['birthdate'] = pd.to_datetime(customers['birthdate'], errors='coerce')\n",
        "customers = customers.explode(\"accounts\").rename(columns={'accounts': 'account_id'})  # una fila por cuenta\n",
        "customers_final = customers[['username', 'name', 'birthdate', 'account_id']]"
      ],
      "metadata": {
        "id": "nof5NRdh_XJt"
      },
      "execution_count": 12,
      "outputs": []
    }
  ]
}