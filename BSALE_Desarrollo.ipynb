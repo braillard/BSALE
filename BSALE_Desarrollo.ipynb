{
  "nbformat": 4,
  "nbformat_minor": 0,
  "metadata": {
    "colab": {
      "provenance": []
    },
    "kernelspec": {
      "name": "python3",
      "display_name": "Python 3"
    },
    "language_info": {
      "name": "python"
    }
  },
  "cells": [
    {
      "cell_type": "code",
      "execution_count": 1,
      "metadata": {
        "id": "l5nUQINdi9h0",
        "colab": {
          "base_uri": "https://localhost:8080/"
        },
        "outputId": "e86e683d-7991-4891-e2ad-7318a005083e"
      },
      "outputs": [
        {
          "output_type": "execute_result",
          "data": {
            "text/plain": [
              "88119"
            ]
          },
          "metadata": {},
          "execution_count": 1
        }
      ],
      "source": [
        "import pandas as pd\n",
        "import sqlite3\n",
        "import json\n",
        "\n",
        "#cargaré los datos de los archivos JSON\n",
        "\n",
        "import pandas as pd\n",
        "import sqlite3\n",
        "import json\n",
        "\n",
        "# Cargar los datos desde archivos JSON\n",
        "customers = pd.read_json(\"sample_analytics.customers.json\")\n",
        "accounts = pd.read_json(\"sample_analytics.accounts.json\")\n",
        "\n",
        "# Cargar y expandir el JSON de transacciones (está anidado)\n",
        "with open(\"sample_analytics.transactions.json\") as f:\n",
        "    raw_transactions = json.load(f)\n",
        "\n",
        "# Extraer y normalizar las transacciones por cuenta\n",
        "transactions_expanded = []\n",
        "for entry in raw_transactions:\n",
        "    account_id = entry['account_id']  # id de cuenta que agrupa cada set de transacciones\n",
        "    for tx in entry['transactions']:\n",
        "        tx_flat = tx.copy()\n",
        "        tx_flat['account_id'] = account_id\n",
        "        if isinstance(tx['date'], dict):  # revisar si la fecha está en formato {'$date': ...}\n",
        "            tx_flat['date'] = tx['date']['$date']\n",
        "        transactions_expanded.append(tx_flat)\n",
        "\n",
        "# Crear DataFrame de transacciones y limpiar\n",
        "transactions = pd.DataFrame(transactions_expanded)\n",
        "transactions['date'] = pd.to_datetime(transactions['date'], errors='coerce')  # convertir a datetime\n",
        "transactions = transactions[['account_id', 'date', 'amount', 'transaction_code', 'symbol', 'price', 'total']]\n",
        "\n",
        "#normalizaremos los clientes\n",
        "customers['birthdate'] = customers['birthdate'].apply(lambda x: x['$date'] if isinstance(x, dict) else x)\n",
        "customers['birthdate'] = pd.to_datetime(customers['birthdate'], errors='coerce')\n",
        "customers = customers.explode(\"accounts\").rename(columns={'accounts': 'account_id'})  # una fila por cuenta\n",
        "customers_final = customers[['username', 'name', 'birthdate', 'account_id']]\n",
        "\n",
        "# Normalizar cuentas\n",
        "accounts['products'] = accounts['products'].apply(lambda x: ', '.join(x) if isinstance(x, list) else str(x))\n",
        "accounts_final = accounts[['account_id', 'limit', 'products']]\n",
        "\n",
        "# Crear base de datos SQLite y guardar las tablas\n",
        "conn = sqlite3.connect(\"sample_analytics.db\")\n",
        "customers_final.to_sql(\"customers\", conn, if_exists=\"replace\", index=False)\n",
        "accounts_final.to_sql(\"accounts\", conn, if_exists=\"replace\", index=False)\n",
        "transactions.to_sql(\"transactions\", conn, if_exists=\"replace\", index=False)"
      ]
    },
    {
      "cell_type": "markdown",
      "source": [
        "## Pregunta 1\n",
        "¿Cuál es el promedio, mínimo, máximo y desviación estándar del límite de las cuentas de usuarios?"
      ],
      "metadata": {
        "id": "q7fXQjmmDZ1_"
      }
    },
    {
      "cell_type": "code",
      "source": [
        "accounts_final[\"limit\"].agg(['mean', 'min', 'max', 'std']).round(2)"
      ],
      "metadata": {
        "colab": {
          "base_uri": "https://localhost:8080/",
          "height": 210
        },
        "id": "nof5NRdh_XJt",
        "outputId": "4c36b230-1dc4-4820-9fe2-368a7d007cff"
      },
      "execution_count": 2,
      "outputs": [
        {
          "output_type": "execute_result",
          "data": {
            "text/plain": [
              "mean     9955.90\n",
              "min      3000.00\n",
              "max     10000.00\n",
              "std       354.75\n",
              "Name: limit, dtype: float64"
            ],
            "text/html": [
              "<div>\n",
              "<style scoped>\n",
              "    .dataframe tbody tr th:only-of-type {\n",
              "        vertical-align: middle;\n",
              "    }\n",
              "\n",
              "    .dataframe tbody tr th {\n",
              "        vertical-align: top;\n",
              "    }\n",
              "\n",
              "    .dataframe thead th {\n",
              "        text-align: right;\n",
              "    }\n",
              "</style>\n",
              "<table border=\"1\" class=\"dataframe\">\n",
              "  <thead>\n",
              "    <tr style=\"text-align: right;\">\n",
              "      <th></th>\n",
              "      <th>limit</th>\n",
              "    </tr>\n",
              "  </thead>\n",
              "  <tbody>\n",
              "    <tr>\n",
              "      <th>mean</th>\n",
              "      <td>9955.90</td>\n",
              "    </tr>\n",
              "    <tr>\n",
              "      <th>min</th>\n",
              "      <td>3000.00</td>\n",
              "    </tr>\n",
              "    <tr>\n",
              "      <th>max</th>\n",
              "      <td>10000.00</td>\n",
              "    </tr>\n",
              "    <tr>\n",
              "      <th>std</th>\n",
              "      <td>354.75</td>\n",
              "    </tr>\n",
              "  </tbody>\n",
              "</table>\n",
              "</div><br><label><b>dtype:</b> float64</label>"
            ]
          },
          "metadata": {},
          "execution_count": 2
        }
      ]
    },
    {
      "cell_type": "markdown",
      "source": [
        "## Pregunta 2\n",
        "¿Cuántos clientes poseen más de una cuenta?"
      ],
      "metadata": {
        "id": "yiBBa6DXKLdH"
      }
    },
    {
      "cell_type": "code",
      "source": [
        "# Esta consulta se ejecuta sobre la base de datos SQLite usando pandas.read_sql_query().\n",
        "# Permite obtener un DataFrame directamente desde una instrucción SQL.\n",
        "query = \"\"\"SELECT COUNT(DISTINCT username) AS clientes_con_mas_de_una_cuenta\n",
        "FROM (\n",
        "    SELECT username, COUNT(DISTINCT account_id) AS cuentas\n",
        "    FROM customers\n",
        "    GROUP BY username\n",
        "    HAVING cuentas > 1\n",
        ");\"\"\"\n",
        "pd.read_sql_query(query, conn)"
      ],
      "metadata": {
        "id": "AKGrdbfmKTKj",
        "outputId": "fdd0c730-ba21-4dc3-bfc9-4b2668a70fe2",
        "colab": {
          "base_uri": "https://localhost:8080/",
          "height": 81
        }
      },
      "execution_count": 3,
      "outputs": [
        {
          "output_type": "execute_result",
          "data": {
            "text/plain": [
              "   clientes_con_mas_de_una_cuenta\n",
              "0                             414"
            ],
            "text/html": [
              "\n",
              "  <div id=\"df-f0d89727-604d-4a72-b09e-d219bb323c82\" class=\"colab-df-container\">\n",
              "    <div>\n",
              "<style scoped>\n",
              "    .dataframe tbody tr th:only-of-type {\n",
              "        vertical-align: middle;\n",
              "    }\n",
              "\n",
              "    .dataframe tbody tr th {\n",
              "        vertical-align: top;\n",
              "    }\n",
              "\n",
              "    .dataframe thead th {\n",
              "        text-align: right;\n",
              "    }\n",
              "</style>\n",
              "<table border=\"1\" class=\"dataframe\">\n",
              "  <thead>\n",
              "    <tr style=\"text-align: right;\">\n",
              "      <th></th>\n",
              "      <th>clientes_con_mas_de_una_cuenta</th>\n",
              "    </tr>\n",
              "  </thead>\n",
              "  <tbody>\n",
              "    <tr>\n",
              "      <th>0</th>\n",
              "      <td>414</td>\n",
              "    </tr>\n",
              "  </tbody>\n",
              "</table>\n",
              "</div>\n",
              "    <div class=\"colab-df-buttons\">\n",
              "\n",
              "  <div class=\"colab-df-container\">\n",
              "    <button class=\"colab-df-convert\" onclick=\"convertToInteractive('df-f0d89727-604d-4a72-b09e-d219bb323c82')\"\n",
              "            title=\"Convert this dataframe to an interactive table.\"\n",
              "            style=\"display:none;\">\n",
              "\n",
              "  <svg xmlns=\"http://www.w3.org/2000/svg\" height=\"24px\" viewBox=\"0 -960 960 960\">\n",
              "    <path d=\"M120-120v-720h720v720H120Zm60-500h600v-160H180v160Zm220 220h160v-160H400v160Zm0 220h160v-160H400v160ZM180-400h160v-160H180v160Zm440 0h160v-160H620v160ZM180-180h160v-160H180v160Zm440 0h160v-160H620v160Z\"/>\n",
              "  </svg>\n",
              "    </button>\n",
              "\n",
              "  <style>\n",
              "    .colab-df-container {\n",
              "      display:flex;\n",
              "      gap: 12px;\n",
              "    }\n",
              "\n",
              "    .colab-df-convert {\n",
              "      background-color: #E8F0FE;\n",
              "      border: none;\n",
              "      border-radius: 50%;\n",
              "      cursor: pointer;\n",
              "      display: none;\n",
              "      fill: #1967D2;\n",
              "      height: 32px;\n",
              "      padding: 0 0 0 0;\n",
              "      width: 32px;\n",
              "    }\n",
              "\n",
              "    .colab-df-convert:hover {\n",
              "      background-color: #E2EBFA;\n",
              "      box-shadow: 0px 1px 2px rgba(60, 64, 67, 0.3), 0px 1px 3px 1px rgba(60, 64, 67, 0.15);\n",
              "      fill: #174EA6;\n",
              "    }\n",
              "\n",
              "    .colab-df-buttons div {\n",
              "      margin-bottom: 4px;\n",
              "    }\n",
              "\n",
              "    [theme=dark] .colab-df-convert {\n",
              "      background-color: #3B4455;\n",
              "      fill: #D2E3FC;\n",
              "    }\n",
              "\n",
              "    [theme=dark] .colab-df-convert:hover {\n",
              "      background-color: #434B5C;\n",
              "      box-shadow: 0px 1px 3px 1px rgba(0, 0, 0, 0.15);\n",
              "      filter: drop-shadow(0px 1px 2px rgba(0, 0, 0, 0.3));\n",
              "      fill: #FFFFFF;\n",
              "    }\n",
              "  </style>\n",
              "\n",
              "    <script>\n",
              "      const buttonEl =\n",
              "        document.querySelector('#df-f0d89727-604d-4a72-b09e-d219bb323c82 button.colab-df-convert');\n",
              "      buttonEl.style.display =\n",
              "        google.colab.kernel.accessAllowed ? 'block' : 'none';\n",
              "\n",
              "      async function convertToInteractive(key) {\n",
              "        const element = document.querySelector('#df-f0d89727-604d-4a72-b09e-d219bb323c82');\n",
              "        const dataTable =\n",
              "          await google.colab.kernel.invokeFunction('convertToInteractive',\n",
              "                                                    [key], {});\n",
              "        if (!dataTable) return;\n",
              "\n",
              "        const docLinkHtml = 'Like what you see? Visit the ' +\n",
              "          '<a target=\"_blank\" href=https://colab.research.google.com/notebooks/data_table.ipynb>data table notebook</a>'\n",
              "          + ' to learn more about interactive tables.';\n",
              "        element.innerHTML = '';\n",
              "        dataTable['output_type'] = 'display_data';\n",
              "        await google.colab.output.renderOutput(dataTable, element);\n",
              "        const docLink = document.createElement('div');\n",
              "        docLink.innerHTML = docLinkHtml;\n",
              "        element.appendChild(docLink);\n",
              "      }\n",
              "    </script>\n",
              "  </div>\n",
              "\n",
              "\n",
              "    </div>\n",
              "  </div>\n"
            ],
            "application/vnd.google.colaboratory.intrinsic+json": {
              "type": "dataframe",
              "summary": "{\n  \"name\": \"pd\",\n  \"rows\": 1,\n  \"fields\": [\n    {\n      \"column\": \"clientes_con_mas_de_una_cuenta\",\n      \"properties\": {\n        \"dtype\": \"number\",\n        \"std\": null,\n        \"min\": 414,\n        \"max\": 414,\n        \"num_unique_values\": 1,\n        \"samples\": [\n          414\n        ],\n        \"semantic_type\": \"\",\n        \"description\": \"\"\n      }\n    }\n  ]\n}"
            }
          },
          "metadata": {},
          "execution_count": 3
        }
      ]
    }
  ]
}